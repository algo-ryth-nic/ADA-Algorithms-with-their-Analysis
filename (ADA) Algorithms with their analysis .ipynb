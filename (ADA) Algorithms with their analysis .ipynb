{
 "cells": [
  {
   "cell_type": "code",
   "execution_count": 27,
   "metadata": {},
   "outputs": [],
   "source": [
    "import numpy as np\n",
    "from timeit import default_timer as timer\n",
    "import matplotlib.pyplot as plt\n",
    "%matplotlib inline\n",
    "\n",
    "def plot_complexity(func, title = 'Algorithm'):\n",
    "    data = {\n",
    "        'length of list':[], \n",
    "        'time taken': []\n",
    "    }\n",
    "    \n",
    "    for i in range(1, 12):\n",
    "        arr = np.random.randint(0, 1000*i, 1000*i)\n",
    "        \n",
    "        start = timer()\n",
    "        func(arr)\n",
    "        end = timer()\n",
    "        \n",
    "        print(f'Sorted {1000*i} elements in {end-start}s')\n",
    "        \n",
    "        data['length of list'].append(1000*i)\n",
    "        data['time taken'].append(end-start)\n",
    "        \n",
    "    plt.plot(data['length of list'], data['time taken'], label=title)\n",
    "    plt.title(title)\n",
    "    plt.xlabel('Length of array')\n",
    "    plt.ylabel('Time taken')\n",
    "        \n",
    "#     plt.plot(data['length of list'], , label = 'O(n^2)')\n",
    "    plt.legend()"
   ]
  },
  {
   "cell_type": "markdown",
   "metadata": {
    "heading_collapsed": true
   },
   "source": [
    "## Selection Sort"
   ]
  },
  {
   "cell_type": "code",
   "execution_count": 3,
   "metadata": {
    "hidden": true
   },
   "outputs": [],
   "source": [
    "def selection_sort(arr):\n",
    "    swaps = 0\n",
    "    for l in range(0, len(arr)-1):    #\n",
    "        key_index = l\n",
    "        \n",
    "        # searching for min/max element\n",
    "        for i in range(l+1, len(arr)):\n",
    "            if arr[key_index] >= arr[i]:\n",
    "                key_index = i\n",
    "        else:\n",
    "            # swapping \n",
    "            arr[l], arr[key_index] = arr[key_index], arr[l]\n",
    "            swaps += 1\n",
    "    \n",
    "    #print(swaps)\n",
    "    return arr\n",
    "\n",
    "# selection_sort()"
   ]
  },
  {
   "cell_type": "code",
   "execution_count": 16,
   "metadata": {
    "hidden": true
   },
   "outputs": [
    {
     "data": {
      "image/png": "[encoded data removed]",
      "text/plain": [
       "<Figure size 432x288 with 1 Axes>"
      ]
     },
     "metadata": {
      "needs_background": "light"
     },
     "output_type": "display_data"
    }
   ],
   "source": [
    "plot_complexity(selection_sort, title = 'Selection Sort')"
   ]
  },
  {
   "cell_type": "markdown",
   "metadata": {},
   "source": [
    "## Insertion Sort"
   ]
  },
  {
   "cell_type": "code",
   "execution_count": 38,
   "metadata": {},
   "outputs": [
    {
     "name": "stdout",
     "output_type": "stream",
     "text": [
      "[29, 10, 14, 37, 13, 3]\n"
     ]
    },
    {
     "data": {
      "text/plain": [
       "[3, 10, 13, 14, 29, 37]"
      ]
     },
     "execution_count": 38,
     "metadata": {},
     "output_type": "execute_result"
    }
   ],
   "source": [
    "def insertion_sort(list):\n",
    "    for index in range(1,len(list)):\n",
    "        key = list[index]\n",
    "        previousIndex = index - 1\n",
    "        while list[previousIndex] > key and previousIndex >= 0:\n",
    "            # swapping position\n",
    "            temp = key\n",
    "            list[previousIndex+1] = list[previousIndex]\n",
    "            list[previousIndex] = temp\n",
    "            previousIndex -= 1\n",
    "\n",
    "    return list\n",
    "\n",
    "print([29,10,14,37,13,3])\n",
    "insertion_sort([29,10,14,37,13,3])"
   ]
  },
  {
   "cell_type": "code",
   "execution_count": 41,
   "metadata": {},
   "outputs": [
    {
     "name": "stdout",
     "output_type": "stream",
     "text": [
      "20.8 s ± 1.05 s per loop (mean ± std. dev. of 7 runs, 1 loop each)\n"
     ]
    }
   ],
   "source": [
    "import numpy as np\n",
    "%timeit insertion_sort(np.random.randint(0,1000, 10000))"
   ]
  },
  {
   "cell_type": "code",
   "execution_count": 16,
   "metadata": {},
   "outputs": [
    {
     "data": {
      "image/png": "[encoded data removed]",
      "text/plain": [
       "<Figure size 432x288 with 1 Axes>"
      ]
     },
     "metadata": {
      "needs_background": "light"
     },
     "output_type": "display_data"
    }
   ],
   "source": [
    "plot_complexity(insertion_sort, title='Insertion Sorbt')"
   ]
  },
  {
   "cell_type": "markdown",
   "metadata": {},
   "source": [
    "## Quick Sort"
   ]
  },
  {
   "cell_type": "code",
   "execution_count": 26,
   "metadata": {},
   "outputs": [
    {
     "data": {
      "text/plain": [
       "[2, 3, 4, 5, 15, 19, 27, 26, 36, 38, 44, 46, 47, 50, 48]"
      ]
     },
     "execution_count": 26,
     "metadata": {},
     "output_type": "execute_result"
    }
   ],
   "source": [
    "def quick_sort(arr, lower_bound, upper_bound):\n",
    "    \n",
    "    # base case\n",
    "    if upper_bound - lower_bound <= 1:\n",
    "        return arr\n",
    "    \n",
    "    # pivot is the first element\n",
    "    pivot = arr[lower_bound]\n",
    "    left = lower_bound + 1\n",
    "    right = upper_bound\n",
    "    \n",
    "    # partitioning subroutine, O(n)\n",
    "    while left<=right:\n",
    "        if arr[left] < pivot:\n",
    "            left += 1\n",
    "        elif arr[right] >= pivot:\n",
    "            right -= 1\n",
    "        else:\n",
    "            # swapping\n",
    "            arr[left], arr[right] = arr[right], arr[left]\n",
    "            left += 1\n",
    "            right -= 1\n",
    "            \n",
    "    # swapping the pivot with the \"right\" index, now the pivot is in its \"sorted\"/\"final\" position\n",
    "    arr[lower_bound], arr[right] = arr[right], arr[lower_bound]\n",
    "    \n",
    "    pivot_index = right\n",
    "\n",
    "    # recursively solving for both/all the sublists\n",
    "    quick_sort(arr, lower_bound, pivot_index-1);         # 1st half/branch\n",
    "    quick_sort(arr, pivot_index+1, upper_bound);         # 2nd half/branch\n",
    "    \n",
    "    return arr\n",
    "    \n",
    "arr = [3,44,38,5,47,15,36,26,27,2,46,4,19,50,48]\n",
    "quick_sort(arr, 0, len(arr)-1)"
   ]
  },
  {
   "cell_type": "code",
   "execution_count": 37,
   "metadata": {},
   "outputs": [
    {
     "name": "stdout",
     "output_type": "stream",
     "text": [
      "Sorted 1000 elements in 0.01221129999976256s\n",
      "Sorted 2000 elements in 0.022807800000009593s\n",
      "Sorted 3000 elements in 0.031390299999657145s\n",
      "Sorted 4000 elements in 0.031627800000023853s\n",
      "Sorted 5000 elements in 0.0386754999999539s\n",
      "Sorted 6000 elements in 0.0526703999998972s\n",
      "Sorted 7000 elements in 0.056989899999734916s\n",
      "Sorted 8000 elements in 0.07792019999988042s\n",
      "Sorted 9000 elements in 0.08177639999985331s\n",
      "Sorted 10000 elements in 0.08848029999990104s\n",
      "Sorted 11000 elements in 0.11621849999983169s\n",
      "Sorted 12000 elements in 0.11894130000018777s\n",
      "Sorted 13000 elements in 0.161435800000163s\n",
      "Sorted 14000 elements in 0.15314730000000054s\n",
      "Sorted 15000 elements in 0.2934731999998803s\n",
      "Sorted 16000 elements in 0.16785440000012386s\n",
      "Sorted 17000 elements in 0.18742250000013883s\n",
      "Sorted 18000 elements in 0.17777580000029047s\n",
      "Sorted 19000 elements in 0.24134010000034323s\n",
      "Sorted 20000 elements in 0.1977944000000207s\n",
      "Sorted 21000 elements in 0.2713971000002857s\n",
      "Sorted 22000 elements in 0.21627399999988484s\n",
      "Sorted 23000 elements in 0.28361839999979566s\n",
      "Sorted 24000 elements in 0.2628729999996722s\n",
      "Sorted 25000 elements in 0.27648720000024696s\n",
      "Sorted 26000 elements in 0.30136929999980566s\n",
      "Sorted 27000 elements in 0.2909588000002259s\n",
      "Sorted 28000 elements in 0.30013110000027154s\n",
      "Sorted 29000 elements in 0.32394079999994574s\n",
      "Sorted 30000 elements in 0.3084171000000424s\n",
      "Sorted 31000 elements in 0.3496460000001207s\n",
      "Sorted 32000 elements in 0.39619790000006105s\n",
      "Sorted 33000 elements in 0.4278386999999384s\n",
      "Sorted 34000 elements in 0.34898169999996753s\n",
      "Sorted 35000 elements in 0.364670599999954s\n",
      "Sorted 36000 elements in 0.43444540000018605s\n",
      "Sorted 37000 elements in 0.4543300000000272s\n",
      "Sorted 38000 elements in 0.4574256000000787s\n",
      "Sorted 39000 elements in 0.49057570000013584s\n",
      "Sorted 40000 elements in 0.4349544000001515s\n",
      "Sorted 41000 elements in 0.47150490000012724s\n",
      "Sorted 42000 elements in 0.4927186999998412s\n",
      "Sorted 43000 elements in 0.5441285000001699s\n",
      "Sorted 44000 elements in 0.5783717999997862s\n",
      "Sorted 45000 elements in 0.534334299999955s\n",
      "Sorted 46000 elements in 0.6049716000002263s\n",
      "Sorted 47000 elements in 0.5563483999999335s\n",
      "Sorted 48000 elements in 0.5476843000001281s\n",
      "Sorted 49000 elements in 0.5692466000000422s\n",
      "Sorted 50000 elements in 0.5582173000002513s\n",
      "Sorted 51000 elements in 0.6844882000000325s\n",
      "Sorted 52000 elements in 0.652434500000254s\n",
      "Sorted 53000 elements in 0.6675617999999304s\n",
      "Sorted 54000 elements in 0.6625982000000477s\n",
      "Sorted 55000 elements in 0.7005585000001702s\n",
      "Sorted 56000 elements in 0.6286000000000058s\n",
      "Sorted 57000 elements in 0.6206515000003492s\n",
      "Sorted 58000 elements in 0.6425294000000576s\n",
      "Sorted 59000 elements in 0.6817944999997962s\n",
      "Sorted 60000 elements in 0.7302215999998225s\n",
      "Sorted 61000 elements in 0.8179300999995576s\n",
      "Sorted 62000 elements in 0.7879431000001205s\n",
      "Sorted 63000 elements in 0.8396119999997609s\n",
      "Sorted 64000 elements in 0.9528039000001627s\n",
      "Sorted 65000 elements in 0.7282629999999699s\n",
      "Sorted 66000 elements in 1.0121133000002374s\n",
      "Sorted 67000 elements in 0.7751139000001785s\n",
      "Sorted 68000 elements in 0.8328546999996433s\n",
      "Sorted 69000 elements in 0.8441702000000078s\n",
      "Sorted 70000 elements in 0.8733628999998473s\n",
      "Sorted 71000 elements in 0.8564973000002283s\n",
      "Sorted 72000 elements in 0.8680413000001863s\n",
      "Sorted 73000 elements in 0.9178640000000087s\n",
      "Sorted 74000 elements in 0.840210300000308s\n",
      "Sorted 75000 elements in 0.9058408999999301s\n",
      "Sorted 76000 elements in 0.9748175999998239s\n",
      "Sorted 77000 elements in 1.0259736999996676s\n",
      "Sorted 78000 elements in 1.041417299999921s\n",
      "Sorted 79000 elements in 1.067770499999824s\n",
      "Sorted 80000 elements in 1.0110308000002988s\n",
      "Sorted 81000 elements in 1.0227687999999944s\n",
      "Sorted 82000 elements in 1.0671794999998383s\n",
      "Sorted 83000 elements in 0.9795039999999062s\n",
      "Sorted 84000 elements in 0.992164799999955s\n",
      "Sorted 85000 elements in 1.046884400000181s\n",
      "Sorted 86000 elements in 1.021039600000222s\n",
      "Sorted 87000 elements in 1.1512519999996584s\n",
      "Sorted 88000 elements in 1.153448600000047s\n",
      "Sorted 89000 elements in 1.1791447000000517s\n",
      "Sorted 90000 elements in 1.3364034999999603s\n",
      "Sorted 91000 elements in 1.28255530000024s\n",
      "Sorted 92000 elements in 1.20651399999997s\n",
      "Sorted 93000 elements in 1.3049627999998847s\n",
      "Sorted 94000 elements in 1.1437286000000313s\n",
      "Sorted 95000 elements in 1.1557909000002837s\n",
      "Sorted 96000 elements in 1.2153607000000193s\n",
      "Sorted 97000 elements in 1.1994806000002427s\n",
      "Sorted 98000 elements in 1.3189063999998325s\n",
      "Sorted 99000 elements in 1.246388300000035s\n"
     ]
    },
    {
     "data": {
      "image/png": "[encoded data removed]",
      "text/plain": [
       "<Figure size 432x288 with 1 Axes>"
      ]
     },
     "metadata": {
      "needs_background": "light"
     },
     "output_type": "display_data"
    }
   ],
   "source": [
    "import numpy as np\n",
    "from timeit import default_timer as timer\n",
    "import matplotlib.pyplot as plt\n",
    "%matplotlib inline\n",
    "\n",
    "def plot_complexity_quick_sort():\n",
    "    title = 'Quick Sort'\n",
    "    data = {\n",
    "        'length of list':[], \n",
    "        'time taken': []\n",
    "    }\n",
    "    \n",
    "    for i in range(1, 100):\n",
    "        arr = np.random.randint(0, 1000*i, 1000*i)\n",
    "        \n",
    "        start = timer()\n",
    "        quick_sort(arr,0, len(arr)-1)\n",
    "        end = timer()\n",
    "        \n",
    "        print(f'Sorted {1000*i} elements in {end-start}s')\n",
    "        \n",
    "        data['length of list'].append(1000*i)\n",
    "        data['time taken'].append(end-start)\n",
    "        \n",
    "    plt.plot(data['length of list'], data['time taken'], label=title)\n",
    "    plt.title(title)\n",
    "    plt.xlabel('Length of array')\n",
    "    plt.ylabel('Time taken')\n",
    "    plt.legend()\n",
    "    \n",
    "plot_complexity_quick_sort()"
   ]
  },
  {
   "cell_type": "code",
   "execution_count": 43,
   "metadata": {},
   "outputs": [
    {
     "name": "stdout",
     "output_type": "stream",
     "text": [
      "113 ms ± 3.21 ms per loop (mean ± std. dev. of 7 runs, 10 loops each)\n"
     ]
    }
   ],
   "source": [
    "import numpy as np \n",
    "%timeit quick_sort(np.random.randint(0,1000,10000), 0, 9999)"
   ]
  },
  {
   "cell_type": "code",
   "execution_count": 23,
   "metadata": {
    "scrolled": true
   },
   "outputs": [
    {
     "data": {
      "text/plain": [
       "(0.0, 50.0)"
      ]
     },
     "execution_count": 23,
     "metadata": {},
     "output_type": "execute_result"
    },
    {
     "data": {
      "image/png": "[encoded data removed]",
      "text/plain": [
       "<Figure size 432x288 with 1 Axes>"
      ]
     },
     "metadata": {},
     "output_type": "display_data"
    }
   ],
   "source": [
    "import numpy as np\n",
    "import matplotlib.pyplot as plt\n",
    "import seaborn as sns\n",
    "%matplotlib inline\n",
    "x = np.arange(1,50)\n",
    "\n",
    "sns.set_theme()\n",
    "\n",
    "plt.plot(x,x**2,color='orange', label='O(n^2)')\n",
    "plt.plot(x,x,color='g', label='O(n)')\n",
    "plt.plot(x,[1]*len(x),color='b', label='O(1)')\n",
    "plt.plot(x,np.log(x),color='r', label='O(log n)')\n",
    "plt.plot(x, x*np.log(x), color = 'purple', label='O(nlog n)')\n",
    "\n",
    "plt.title('Asymptotic Complexities of Various Functions')\n",
    "plt.xlabel('x')\n",
    "plt.ylabel('y')\n",
    "plt.legend()\n",
    "\n",
    "plt.ylim([0,50])"
   ]
  },
  {
   "cell_type": "markdown",
   "metadata": {
    "heading_collapsed": true
   },
   "source": [
    "## Matrix dot Product & Strassen Matrix Mutiplication"
   ]
  },
  {
   "cell_type": "markdown",
   "metadata": {
    "hidden": true
   },
   "source": [
    "### Iterative Method"
   ]
  },
  {
   "cell_type": "code",
   "execution_count": 5,
   "metadata": {
    "hidden": true
   },
   "outputs": [
    {
     "data": {
      "text/plain": [
       "[[9, 12], [24, 33]]"
      ]
     },
     "execution_count": 5,
     "metadata": {},
     "output_type": "execute_result"
    }
   ],
   "source": [
    "def iterative_dot_product(matrix, order):\n",
    "    c = []\n",
    "    for i in range(order):\n",
    "        row= []\n",
    "        \n",
    "        for j in range(order):\n",
    "            element = 0;\n",
    "            \n",
    "            for k in range(order):\n",
    "                element += matrix[i][k]*matrix[k][j]\n",
    "            \n",
    "            row.append(element)\n",
    "        \n",
    "        c.append(row)\n",
    "    return c\n",
    "\n",
    "a = [[1,2,3],[4,5,6]]\n",
    "iterative_dot_product(a, len(a))"
   ]
  },
  {
   "cell_type": "code",
   "execution_count": 19,
   "metadata": {
    "hidden": true
   },
   "outputs": [
    {
     "name": "stdout",
     "output_type": "stream",
     "text": [
      "17.6 s ± 400 ms per loop (mean ± std. dev. of 7 runs, 1 loop each)\n"
     ]
    }
   ],
   "source": [
    "import numpy as np \n",
    "%timeit iterative_dot_product(np.random.randint(0,1000,(256,256), 256)    # around 62k elements"
   ]
  },
  {
   "cell_type": "code",
   "execution_count": 23,
   "metadata": {
    "hidden": true
   },
   "outputs": [
    {
     "name": "stdout",
     "output_type": "stream",
     "text": [
      "Completed Dot product of 10 x 10 matrix in 0.0011411000000407512s\n",
      "Completed Dot product of 20 x 20 matrix in 0.009522900000320078s\n",
      "Completed Dot product of 30 x 30 matrix in 0.040461900000082096s\n",
      "Completed Dot product of 40 x 40 matrix in 0.07526590000043143s\n",
      "Completed Dot product of 50 x 50 matrix in 0.1426753999999164s\n",
      "Completed Dot product of 60 x 60 matrix in 0.2438403000001017s\n",
      "Completed Dot product of 70 x 70 matrix in 0.37903370000003633s\n",
      "Completed Dot product of 80 x 80 matrix in 0.6228292999999212s\n",
      "Completed Dot product of 90 x 90 matrix in 0.8917216999998345s\n",
      "Completed Dot product of 100 x 100 matrix in 1.522650099999737s\n",
      "Completed Dot product of 110 x 110 matrix in 1.858813999999711s\n",
      "Completed Dot product of 120 x 120 matrix in 2.0668281000002935s\n",
      "Completed Dot product of 130 x 130 matrix in 2.4772917999998754s\n",
      "Completed Dot product of 140 x 140 matrix in 3.346391600000061s\n",
      "Completed Dot product of 150 x 150 matrix in 4.066251600000214s\n",
      "Completed Dot product of 160 x 160 matrix in 5.611642800000027s\n",
      "Completed Dot product of 170 x 170 matrix in 5.766362400000162s\n",
      "Completed Dot product of 180 x 180 matrix in 6.699847200000022s\n",
      "Completed Dot product of 190 x 190 matrix in 9.459805699999833s\n",
      "Completed Dot product of 200 x 200 matrix in 9.711996100000306s\n",
      "Completed Dot product of 210 x 210 matrix in 12.729434599999877s\n",
      "Completed Dot product of 220 x 220 matrix in 11.809154699999908s\n",
      "Completed Dot product of 230 x 230 matrix in 13.423524699999689s\n",
      "Completed Dot product of 240 x 240 matrix in 20.194579800000156s\n",
      "Completed Dot product of 250 x 250 matrix in 26.016654000000017s\n",
      "Completed Dot product of 260 x 260 matrix in 23.067219300000033s\n",
      "Completed Dot product of 270 x 270 matrix in 27.685539999999946s\n",
      "Completed Dot product of 280 x 280 matrix in 29.658077799999774s\n",
      "Completed Dot product of 290 x 290 matrix in 34.15894819999994s\n",
      "Completed Dot product of 300 x 300 matrix in 37.272789900000134s\n",
      "Completed Dot product of 310 x 310 matrix in 34.18387060000032s\n",
      "Completed Dot product of 320 x 320 matrix in 35.68100979999963s\n",
      "Completed Dot product of 330 x 330 matrix in 42.09637939999993s\n",
      "Completed Dot product of 340 x 340 matrix in 46.40574050000032s\n"
     ]
    },
    {
     "data": {
      "image/png": "[encoded data removed]",
      "text/plain": [
       "<Figure size 432x288 with 1 Axes>"
      ]
     },
     "metadata": {
      "needs_background": "light"
     },
     "output_type": "display_data"
    }
   ],
   "source": [
    "import numpy as np\n",
    "from timeit import default_timer as timer\n",
    "import matplotlib.pyplot as plt\n",
    "%matplotlib inline\n",
    "\n",
    "def plot_complexity_iterative_dot_product():\n",
    "    title = 'Dot Product (Iterative)'\n",
    "    data = {\n",
    "        'Size of Matrix':[], \n",
    "        'time taken': []\n",
    "    }\n",
    "    \n",
    "    for i in range(1, 35):\n",
    "        arr = np.random.randint(0, 1000, (10*i,10*i))\n",
    "        \n",
    "        start = timer()\n",
    "        iterative_dot_product(arr,10*i)\n",
    "        end = timer()\n",
    "        \n",
    "        print(f'Completed Dot product of {10*i} x {10*i} matrix in {end-start}s')\n",
    "        \n",
    "        data['Size of Matrix'].append(10*i)\n",
    "        data['time taken'].append(end-start)\n",
    "        \n",
    "    plt.plot(data['Size of Matrix'], data['time taken'], label=title)\n",
    "    plt.title(title)\n",
    "    plt.xlabel('Size of Matrix')\n",
    "    plt.ylabel('Time taken')\n",
    "    plt.legend()\n",
    "    \n",
    "plot_complexity_iterative_dot_product()"
   ]
  },
  {
   "cell_type": "code",
   "execution_count": 4,
   "metadata": {
    "hidden": true
   },
   "outputs": [
    {
     "name": "stdout",
     "output_type": "stream",
     "text": [
      "Completed Dot product of 0 x 0 matrix in 3.3999999686784577e-06s\n",
      "Completed Dot product of 100 x 100 matrix in 1.150836599999991s\n",
      "Completed Dot product of 200 x 200 matrix in 9.21585570000002s\n",
      "Completed Dot product of 300 x 300 matrix in 31.605928999999946s\n",
      "Completed Dot product of 400 x 400 matrix in 80.5023344s\n",
      "Completed Dot product of 500 x 500 matrix in 142.93181209999995s\n",
      "Completed Dot product of 600 x 600 matrix in 311.1469541s\n"
     ]
    },
    {
     "data": {
      "image/png": "[encoded data removed]",
      "text/plain": [
       "<Figure size 432x288 with 1 Axes>"
      ]
     },
     "metadata": {},
     "output_type": "display_data"
    }
   ],
   "source": [
    "import numpy as np\n",
    "from timeit import default_timer as timer\n",
    "import matplotlib.pyplot as plt\n",
    "import seaborn as sns\n",
    "%matplotlib inline\n",
    "sns.set_theme()\n",
    "\n",
    "def plot_complexity_iterative_dot_product():\n",
    "    title = 'Dot Product (Iterative)'\n",
    "    data = {\n",
    "        'Size of Matrix':[], \n",
    "        'time taken': []\n",
    "    }\n",
    "    \n",
    "    for i in range(0, 700,100):\n",
    "        arr = np.random.randint(0, 1000, (i,i))\n",
    "        \n",
    "        start = timer()\n",
    "        iterative_dot_product(arr,i)\n",
    "        end = timer()\n",
    "        \n",
    "        print(f'Completed Dot product of {i} x {i} matrix in {end-start}s')\n",
    "        \n",
    "        data['Size of Matrix'].append(i)\n",
    "        data['time taken'].append(end-start)\n",
    "        \n",
    "    plt.plot(data['Size of Matrix'], data['time taken'], label=title)\n",
    "    plt.title(title)\n",
    "    plt.xlabel('Size of Matrix')\n",
    "    plt.ylabel('Time taken')\n",
    "    plt.legend()\n",
    "    \n",
    "plot_complexity_iterative_dot_product()"
   ]
  },
  {
   "cell_type": "markdown",
   "metadata": {
    "hidden": true
   },
   "source": [
    "### Strassen's Matrix Multiplication"
   ]
  },
  {
   "cell_type": "code",
   "execution_count": 1,
   "metadata": {
    "hidden": true
   },
   "outputs": [
    {
     "data": {
      "text/plain": [
       "array([[5, 4],\n",
       "       [4, 5]])"
      ]
     },
     "execution_count": 1,
     "metadata": {},
     "output_type": "execute_result"
    }
   ],
   "source": [
    "import numpy as np\n",
    "\n",
    "# assuming A & B are of same order and its a power of 2\n",
    "def strassen_matrix_multiplication(A, B):\n",
    "    # base case\n",
    "    if len(A) == 1:\n",
    "        return A*B\n",
    "    else:\n",
    "\n",
    "        mid = len(A)//2\n",
    "        # sub-diving the matrices\n",
    "        a00, a01 = A[:mid, :mid], A[:mid, mid:]\n",
    "        a10, a11 = A[mid:, :mid], A[mid:, mid:]\n",
    "\n",
    "        b00, b01 = B[:mid, :mid], B[:mid, mid:]\n",
    "        b10, b11 = B[mid:, :mid], B[mid:, mid:]\n",
    "        \n",
    "        # using strassen's formula to solve the sub-problems recursively\n",
    "        m1 = strassen_matrix_multiplication(a00+a11, b00+b11)\n",
    "        m2 = strassen_matrix_multiplication(a10+a11, b00)\n",
    "        m3 = strassen_matrix_multiplication(a00,b01-b11)\n",
    "        m4 = strassen_matrix_multiplication(a11,b10-b00)\n",
    "        m5 = strassen_matrix_multiplication(a00+a01,b11)\n",
    "        m6 = strassen_matrix_multiplication(a10-a00,b00+b01)\n",
    "        m7 = strassen_matrix_multiplication(a01-a11,a10+a11)\n",
    "        \n",
    "        return np.hstack((np.vstack((m1+m4-m5+m7,m3+m5)), np.vstack((m2+m4, m1+m3-m2+m6))))\n",
    "\n",
    "    \n",
    "a = np.array([[1,2],[2,1]])\n",
    "strassen_matrix_multiplication(a,a)"
   ]
  },
  {
   "cell_type": "code",
   "execution_count": 15,
   "metadata": {
    "hidden": true
   },
   "outputs": [
    {
     "name": "stdout",
     "output_type": "stream",
     "text": [
      "55.6 s ± 5.03 s per loop (mean ± std. dev. of 7 runs, 1 loop each)\n"
     ]
    }
   ],
   "source": [
    "import numpy as np\n",
    "%timeit strassen_matrix_multiplication(np.random.randint(0,1000,(256,256)), np.random.randint(0,1000,(256,256))) #around 65k elements"
   ]
  },
  {
   "cell_type": "code",
   "execution_count": 17,
   "metadata": {
    "hidden": true
   },
   "outputs": [
    {
     "name": "stdout",
     "output_type": "stream",
     "text": [
      "Completed (iterative) Dot product of 1 x 1 matrix in 1.1200000017197453e-05s\n",
      "Completed (iterative) Dot product of 2 x 2 matrix in 1.8299999965165625e-05s\n",
      "Completed (iterative) Dot product of 4 x 4 matrix in 8.800000000519503e-05s\n",
      "Completed (iterative) Dot product of 8 x 8 matrix in 0.0006071000000247295s\n",
      "Completed (iterative) Dot product of 16 x 16 matrix in 0.00611069999990832s\n",
      "Completed (iterative) Dot product of 32 x 32 matrix in 0.04809160000013435s\n",
      "Completed (iterative) Dot product of 64 x 64 matrix in 0.2968120000000454s\n",
      "Completed (iterative) Dot product of 128 x 128 matrix in 2.4884049999998297s\n",
      "Completed (iterative) Dot product of 256 x 256 matrix in 18.93759080000018s\n",
      "Completed (iterative) Dot product of 512 x 512 matrix in 190.54295939999997s\n",
      "Completed (Strassen) Dot product of 1 x 1 matrix in 7.60000011723605e-06s\n",
      "Completed (Strassen) Dot product of 2 x 2 matrix in 3.489999994599202e-05s\n",
      "Completed (Strassen) Dot product of 4 x 4 matrix in 0.0001664000001255772s\n",
      "Completed (Strassen) Dot product of 8 x 8 matrix in 0.0013602000001355918s\n",
      "Completed (Strassen) Dot product of 16 x 16 matrix in 0.00918720000004214s\n",
      "Completed (Strassen) Dot product of 32 x 32 matrix in 0.05857590000005075s\n",
      "Completed (Strassen) Dot product of 64 x 64 matrix in 0.3978927000000567s\n",
      "Completed (Strassen) Dot product of 128 x 128 matrix in 3.6038887999998224s\n",
      "Completed (Strassen) Dot product of 256 x 256 matrix in 21.688981699999886s\n",
      "Completed (Strassen) Dot product of 512 x 512 matrix in 167.14497290000008s\n"
     ]
    },
    {
     "data": {
      "image/png": "[encoded data removed]",
      "text/plain": [
       "<Figure size 432x288 with 1 Axes>"
      ]
     },
     "metadata": {
      "needs_background": "light"
     },
     "output_type": "display_data"
    }
   ],
   "source": [
    "import numpy as np\n",
    "from timeit import default_timer as timer\n",
    "import matplotlib.pyplot as plt\n",
    "import seaborn as sns\n",
    "%matplotlib inline\n",
    "sns.set_theme()\n",
    "\n",
    "def plot_complexity_iterative_dot_product():\n",
    "    title = 'Dot Product (Iterative)'\n",
    "    data = {'Size of Matrix':[], 'time taken': []}\n",
    "    for i in [2**i for i in range(0,10)]:\n",
    "        arr = np.random.randint(0, 1000, (i,i))\n",
    "        start = timer()\n",
    "        iterative_dot_product(arr,i)\n",
    "        end = timer()          \n",
    "        print(f'Completed (iterative) Dot product of {i} x {i} matrix in {end-start}s')\n",
    "        data['Size of Matrix'].append(i)\n",
    "        data['time taken'].append(end-start)\n",
    "        \n",
    "    plt.plot(data['Size of Matrix'], data['time taken'], color='navajowhite', label=\"Iterative\");\n",
    "\n",
    "    \n",
    "def plot_complexity_strassen_dot_product():\n",
    "    title = 'Dot Product (Strassen\\'s Algorithm) vs Iterative Method'\n",
    "    data = {\n",
    "        'Size of Matrix':[], \n",
    "        'time taken': []\n",
    "    }\n",
    "    \n",
    "    for i in [2**i for i in range(0,10)]:\n",
    "        arr = np.random.randint(0, 1000, (i,i))\n",
    "        \n",
    "        start = timer()\n",
    "        iterative_dot_product(arr,i)b\n",
    "        end = timer()\n",
    "        \n",
    "        print(f'Completed (Strassen) Dot product of {i} x {i} matrix in {end-start}s')\n",
    "        \n",
    "        data['Size of Matrix'].append(i)\n",
    "        data['time taken'].append(end-start)\n",
    "    plt.plot(data['Size of Matrix'], data['time taken'], color='orange', label=\"Strassen\");\n",
    "    plt.title(title)\n",
    "    plt.xlabel('Size of Matrix')\n",
    "    plt.ylabel('Time taken')\n",
    "    plt.legend()\n",
    "\n",
    "\n",
    "plot_complexity_iterative_dot_product()\n",
    "plot_complexity_strassen_dot_product()"
   ]
  },
  {
   "cell_type": "markdown",
   "metadata": {},
   "source": [
    "## Fractional Knapsack Problem"
   ]
  },
  {
   "cell_type": "code",
   "execution_count": 79,
   "metadata": {},
   "outputs": [
    {
     "name": "stdout",
     "output_type": "stream",
     "text": [
      "Maximum value in Knapsack = 55.333333333333336\n"
     ]
    }
   ],
   "source": [
    "class ItemValue:\n",
    "    def __init__(self, wt, val, ind):\n",
    "        self.wt = wt\n",
    "        self.val = val\n",
    "        self.ind = ind\n",
    "        self.cost = val // wt\n",
    " \n",
    "    def __lt__(self, other):\n",
    "        return self.cost < other.cost\n",
    " \n",
    "# Greedy Approach\n",
    " \n",
    " \n",
    "class FractionalKnapSack:\n",
    " \n",
    "    # O(n log n)\n",
    "    @staticmethod\n",
    "    def getMaxValue(wt, val, capacity):\n",
    "        iVal = []\n",
    "        for i in range(len(wt)):\n",
    "            iVal.append(ItemValue(wt[i], val[i], i))\n",
    "        \n",
    "#         print(iVal)\n",
    "        # sorting items by value\n",
    "        iVal.sort(reverse=True)\n",
    " \n",
    "        totalValue = 0\n",
    "        for i in iVal:\n",
    "            curWt = int(i.wt)\n",
    "            curVal = int(i.val)\n",
    "            if capacity - curWt >= 0:\n",
    "                capacity -= curWt\n",
    "                totalValue += curVal\n",
    "            else:\n",
    "                fraction = capacity / curWt\n",
    "                totalValue += curVal * fraction\n",
    "                capacity = int(capacity - (curWt * fraction))\n",
    "                break\n",
    "        return totalValue\n",
    " \n",
    " \n",
    "\n",
    "wt = [2, 3, 5, 7, 1, 4, 1]\n",
    "val = [10, 5, 15, 7, 6, 18, 3]\n",
    "capacity = 15\n",
    " \n",
    "maxValue = FractionalKnapSack.getMaxValue(wt, val, capacity)\n",
    "print(\"Maximum value in Knapsack =\", maxValue)"
   ]
  },
  {
   "cell_type": "code",
   "execution_count": 70,
   "metadata": {},
   "outputs": [
    {
     "name": "stdout",
     "output_type": "stream",
     "text": [
      "33.5 ms ± 2.7 ms per loop (mean ± std. dev. of 7 runs, 10 loops each)\n"
     ]
    }
   ],
   "source": [
    "import numpy as np\n",
    "%timeit FractionalKnapSack.getMaxValue(np.random.randint(1,1000, 10000), np.random.randint(0,1000, 10000), np.random.randint(0,10000,1))"
   ]
  }
 ],
 "metadata": {
  "kernelspec": {
   "display_name": "venv Python: Data-Sci + others",
   "language": "python",
   "name": "venv-python_programming"
  },
  "language_info": {
   "codemirror_mode": {
    "name": "ipython",
    "version": 3
   },
   "file_extension": ".py",
   "mimetype": "text/x-python",
   "name": "python",
   "nbconvert_exporter": "python",
   "pygments_lexer": "ipython3",
   "version": "3.8.1"
  },
  "toc": {
   "base_numbering": 1,
   "nav_menu": {},
   "number_sections": true,
   "sideBar": true,
   "skip_h1_title": false,
   "title_cell": "Table of Contents",
   "title_sidebar": "Contents",
   "toc_cell": false,
   "toc_position": {
    "height": "calc(100% - 180px)",
    "left": "10px",
    "top": "150px",
    "width": "307.2px"
   },
   "toc_section_display": true,
   "toc_window_display": true
  }
 },
 "nbformat": 4,
 "nbformat_minor": 4
}
